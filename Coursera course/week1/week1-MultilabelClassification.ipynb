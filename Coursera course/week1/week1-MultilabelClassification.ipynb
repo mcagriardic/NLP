{
 "cells": [
  {
   "cell_type": "markdown",
   "metadata": {},
   "source": [
    "# Predict tags on StackOverflow with linear models"
   ]
  },
  {
   "cell_type": "markdown",
   "metadata": {},
   "source": [
    "In this assignment you will learn how to predict tags for posts from [StackOverflow](https://stackoverflow.com). To solve this task you will use multilabel classification approach.\n",
    "\n",
    "# Libraries\n",
    "\n",
    "In this task you will need the following libraries:\n",
    "- [Numpy](http://www.numpy.org) — a package for scientific computing.\n",
    "- [Pandas](https://pandas.pydata.org) — a library providing high-performance, easy-to-use data structures and data analysis tools for the Python\n",
    "- [scikit-learn](http://scikit-learn.org/stable/index.html) — a tool for data mining and data analysis.\n",
    "- [NLTK](http://www.nltk.org) — a platform to work with natural language."
   ]
  },
  {
   "cell_type": "markdown",
   "metadata": {},
   "source": [
    "# Data\n",
    "\n",
    "The following cell will download all data required for this assignment into the folder `week1/data`."
   ]
  },
  {
   "cell_type": "code",
   "execution_count": 1,
   "metadata": {},
   "outputs": [
    {
     "name": "stdout",
     "output_type": "stream",
     "text": [
      "File data\\train.tsv is already downloaded.\n",
      "File data\\validation.tsv is already downloaded.\n",
      "File data\\test.tsv is already downloaded.\n",
      "File data\\text_prepare_tests.tsv is already downloaded.\n"
     ]
    }
   ],
   "source": [
    "import sys\n",
    "sys.path.append(\"..\")\n",
    "from common.download_utils import download_week1_resources\n",
    "\n",
    "download_week1_resources()"
   ]
  },
  {
   "cell_type": "markdown",
   "metadata": {},
   "source": [
    "# Grading\n",
    "We will create a grader instance below and use it to collect your answers. Note that these outputs will be stored locally inside grader and will be uploaded to platform only after running submitting function in the last part of this assignment. If you want to make partial submission, you can run that cell any time you want."
   ]
  },
  {
   "cell_type": "code",
   "execution_count": 2,
   "metadata": {},
   "outputs": [],
   "source": [
    "from grader import Grader"
   ]
  },
  {
   "cell_type": "code",
   "execution_count": 3,
   "metadata": {},
   "outputs": [],
   "source": [
    "grader = Grader()"
   ]
  },
  {
   "cell_type": "markdown",
   "metadata": {},
   "source": [
    "# Text preprocessing"
   ]
  },
  {
   "cell_type": "markdown",
   "metadata": {},
   "source": [
    "For this and most of the following assignments you will need to use a list of stop words. It can be downloaded from *nltk*:"
   ]
  },
  {
   "cell_type": "code",
   "execution_count": 4,
   "metadata": {},
   "outputs": [
    {
     "name": "stderr",
     "output_type": "stream",
     "text": [
      "[nltk_data] Downloading package stopwords to\n",
      "[nltk_data]     C:\\Users\\Cagri\\AppData\\Roaming\\nltk_data...\n",
      "[nltk_data]   Package stopwords is already up-to-date!\n"
     ]
    }
   ],
   "source": [
    "import nltk\n",
    "nltk.download('stopwords')\n",
    "from nltk.corpus import stopwords\n",
    "import pandas as pd"
   ]
  },
  {
   "cell_type": "markdown",
   "metadata": {},
   "source": [
    "In this task you will deal with a dataset of post titles from StackOverflow. You are provided a split to 3 sets: *train*, *validation* and *test*. All corpora (except for *test*) contain titles of the posts and corresponding tags (100 tags are available). The *test* set is provided for Coursera's grading and doesn't contain answers. Upload the corpora using *pandas* and look at the data:"
   ]
  },
  {
   "cell_type": "code",
   "execution_count": 5,
   "metadata": {},
   "outputs": [],
   "source": [
    "from ast import literal_eval\n",
    "import pandas as pd\n",
    "import numpy as np"
   ]
  },
  {
   "cell_type": "code",
   "execution_count": 6,
   "metadata": {},
   "outputs": [],
   "source": [
    "def read_data(filename):\n",
    "    data = pd.read_csv(filename, sep='\\t')\n",
    "    data['tags'] = data['tags'].apply(literal_eval)\n",
    "    return data"
   ]
  },
  {
   "cell_type": "code",
   "execution_count": 7,
   "metadata": {},
   "outputs": [],
   "source": [
    "train = read_data('data/train.tsv')\n",
    "validation = read_data('data/validation.tsv')\n",
    "test = pd.read_csv('data/test.tsv', sep='\\t')"
   ]
  },
  {
   "cell_type": "code",
   "execution_count": 8,
   "metadata": {},
   "outputs": [
    {
     "data": {
      "text/html": [
       "<div>\n",
       "<style scoped>\n",
       "    .dataframe tbody tr th:only-of-type {\n",
       "        vertical-align: middle;\n",
       "    }\n",
       "\n",
       "    .dataframe tbody tr th {\n",
       "        vertical-align: top;\n",
       "    }\n",
       "\n",
       "    .dataframe thead th {\n",
       "        text-align: right;\n",
       "    }\n",
       "</style>\n",
       "<table border=\"1\" class=\"dataframe\">\n",
       "  <thead>\n",
       "    <tr style=\"text-align: right;\">\n",
       "      <th></th>\n",
       "      <th>title</th>\n",
       "      <th>tags</th>\n",
       "    </tr>\n",
       "  </thead>\n",
       "  <tbody>\n",
       "    <tr>\n",
       "      <th>0</th>\n",
       "      <td>How to draw a stacked dotplot in R?</td>\n",
       "      <td>[r]</td>\n",
       "    </tr>\n",
       "    <tr>\n",
       "      <th>1</th>\n",
       "      <td>mysql select all records where a datetime fiel...</td>\n",
       "      <td>[php, mysql]</td>\n",
       "    </tr>\n",
       "    <tr>\n",
       "      <th>2</th>\n",
       "      <td>How to terminate windows phone 8.1 app</td>\n",
       "      <td>[c#]</td>\n",
       "    </tr>\n",
       "    <tr>\n",
       "      <th>3</th>\n",
       "      <td>get current time in a specific country via jquery</td>\n",
       "      <td>[javascript, jquery]</td>\n",
       "    </tr>\n",
       "    <tr>\n",
       "      <th>4</th>\n",
       "      <td>Configuring Tomcat to Use SSL</td>\n",
       "      <td>[java]</td>\n",
       "    </tr>\n",
       "  </tbody>\n",
       "</table>\n",
       "</div>"
      ],
      "text/plain": [
       "                                               title                  tags\n",
       "0                How to draw a stacked dotplot in R?                   [r]\n",
       "1  mysql select all records where a datetime fiel...          [php, mysql]\n",
       "2             How to terminate windows phone 8.1 app                  [c#]\n",
       "3  get current time in a specific country via jquery  [javascript, jquery]\n",
       "4                      Configuring Tomcat to Use SSL                [java]"
      ]
     },
     "execution_count": 8,
     "metadata": {},
     "output_type": "execute_result"
    }
   ],
   "source": [
    "train.head()"
   ]
  },
  {
   "cell_type": "markdown",
   "metadata": {},
   "source": [
    "As you can see, *title* column contains titles of the posts and *tags* column contains the tags. It could be noticed that a number of tags for a post is not fixed and could be as many as necessary."
   ]
  },
  {
   "cell_type": "markdown",
   "metadata": {},
   "source": [
    "For a more comfortable usage, initialize *X_train*, *X_val*, *X_test*, *y_train*, *y_val*."
   ]
  },
  {
   "cell_type": "code",
   "execution_count": 9,
   "metadata": {},
   "outputs": [],
   "source": [
    "X_train, y_train = train['title'].values, train['tags'].values\n",
    "X_val, y_val = validation['title'].values, validation['tags'].values\n",
    "X_test = test['title'].values\n",
    "\n",
    "y_train_nb = y_train\n",
    "y_val_nb = y_val"
   ]
  },
  {
   "cell_type": "markdown",
   "metadata": {},
   "source": [
    "One of the most known difficulties when working with natural data is that it's unstructured. For example, if you use it \"as is\" and extract tokens just by splitting the titles by whitespaces, you will see that there are many \"weird\" tokens like *3.5?*, *\"Flip*, etc. To prevent the problems, it's usually useful to prepare the data somehow. In this task you'll write a function, which will be also used in the other assignments. \n",
    "\n",
    "**Task 1 (TextPrepare).** Implement the function *text_prepare* following the instructions. After that, run the function *test_text_prepare* to test it on tiny cases and submit it to Coursera."
   ]
  },
  {
   "cell_type": "code",
   "execution_count": 10,
   "metadata": {},
   "outputs": [],
   "source": [
    "import re"
   ]
  },
  {
   "cell_type": "code",
   "execution_count": 11,
   "metadata": {},
   "outputs": [],
   "source": [
    "REPLACE_BY_SPACE_RE = re.compile('[/(){}\\[\\]\\|@,;]')\n",
    "BAD_SYMBOLS_RE = re.compile('[^0-9a-z #+_]')\n",
    "STOPWORDS = set(stopwords.words('english'))\n",
    "\n",
    "def text_prepare(text):\n",
    "    \"\"\"\n",
    "        text: a string\n",
    "        \n",
    "        return: modified initial string\n",
    "    \"\"\"\n",
    "    text = text.lower()# lowercase text\n",
    "    text = re.sub(REPLACE_BY_SPACE_RE, ' ', text) # replace REPLACE_BY_SPACE_RE symbols by space in text\n",
    "    text = re.sub(BAD_SYMBOLS_RE, '', text)# delete symbols which are in BAD_SYMBOLS_RE from text\n",
    "    text = [word for word in text.split() if word not in STOPWORDS]# delete stopwords from text\n",
    "    return \" \".join(text)"
   ]
  },
  {
   "cell_type": "code",
   "execution_count": 12,
   "metadata": {},
   "outputs": [],
   "source": [
    "def test_text_prepare():\n",
    "    examples = [\"SQL Server - any equivalent of Excel's CHOOSE function?\",\n",
    "                \"How to free c++ memory vector<int> * arr?\"]\n",
    "    answers = [\"sql server equivalent excels choose function\", \n",
    "               \"free c++ memory vectorint arr\"]\n",
    "    for ex, ans in zip(examples, answers):\n",
    "        if text_prepare(ex) != ans:\n",
    "            return \"Wrong answer for the case: '%s'\" % ex\n",
    "    return 'Basic tests are passed.'"
   ]
  },
  {
   "cell_type": "code",
   "execution_count": 13,
   "metadata": {},
   "outputs": [
    {
     "name": "stdout",
     "output_type": "stream",
     "text": [
      "Basic tests are passed.\n"
     ]
    }
   ],
   "source": [
    "print(test_text_prepare())"
   ]
  },
  {
   "cell_type": "markdown",
   "metadata": {},
   "source": [
    "Run your implementation for questions from file *text_prepare_tests.tsv* to earn the points."
   ]
  },
  {
   "cell_type": "code",
   "execution_count": 14,
   "metadata": {},
   "outputs": [
    {
     "name": "stdout",
     "output_type": "stream",
     "text": [
      "Current answer for task TextPrepare is:\n",
      " sqlite php readonly\n",
      "creating multiple textboxes dynamically\n",
      "self one prefer javascript\n",
      "save php date...\n"
     ]
    }
   ],
   "source": [
    "prepared_questions = []\n",
    "for line in open('data/text_prepare_tests.tsv', encoding='utf-8'):\n",
    "    line = text_prepare(line.strip())\n",
    "    prepared_questions.append(line)\n",
    "text_prepare_results = '\\n'.join(prepared_questions)\n",
    "\n",
    "grader.submit_tag('TextPrepare', text_prepare_results)"
   ]
  },
  {
   "cell_type": "markdown",
   "metadata": {},
   "source": [
    "Now we can preprocess the titles using function *text_prepare* and  making sure that the headers don't have bad symbols:"
   ]
  },
  {
   "cell_type": "code",
   "execution_count": 15,
   "metadata": {},
   "outputs": [],
   "source": [
    "X_train = [text_prepare(x) for x in X_train]\n",
    "X_val = [text_prepare(x) for x in X_val]\n",
    "X_test = [text_prepare(x) for x in X_test]"
   ]
  },
  {
   "cell_type": "code",
   "execution_count": 16,
   "metadata": {},
   "outputs": [
    {
     "data": {
      "text/plain": [
       "['draw stacked dotplot r',\n",
       " 'mysql select records datetime field less specified value',\n",
       " 'terminate windows phone 81 app',\n",
       " 'get current time specific country via jquery',\n",
       " 'configuring tomcat use ssl']"
      ]
     },
     "execution_count": 16,
     "metadata": {},
     "output_type": "execute_result"
    }
   ],
   "source": [
    "X_train[:5]"
   ]
  },
  {
   "cell_type": "markdown",
   "metadata": {},
   "source": [
    "For each tag and for each word calculate how many times they occur in the train corpus. \n",
    "\n",
    "**Task 2 (WordsTagsCount).** Find 3 most popular tags and 3 most popular words in the train data and submit the results to earn the points."
   ]
  },
  {
   "cell_type": "code",
   "execution_count": 17,
   "metadata": {},
   "outputs": [],
   "source": [
    "# Dictionary of all tags from train corpus with their counts.\n",
    "tags_counts = {}\n",
    "# Dictionary of all words from train corpus with their counts.\n",
    "words_counts = {}\n",
    "\n",
    "def get_word_counts(X_train):\n",
    "    query_gen = ((word for word in tag.split()) for tag in X_train)\n",
    "    for query in query_gen:\n",
    "        for word in query:\n",
    "            try:\n",
    "                words_counts[word] += 1\n",
    "            except KeyError:\n",
    "                words_counts[word] = 1\n",
    "            \n",
    "    return words_counts\n",
    "\n",
    "def get_tag_counts(tag_list):\n",
    "    for tags in tag_list:\n",
    "        for tag in tags:\n",
    "            try:\n",
    "                tags_counts[tag] += 1\n",
    "            except KeyError:\n",
    "                tags_counts[tag] = 1\n",
    "\n",
    "    return tags_counts\n",
    "\n",
    "\n",
    "words_counts = get_word_counts(X_train)\n",
    "tags_counts = get_tag_counts(train[\"tags\"])"
   ]
  },
  {
   "cell_type": "markdown",
   "metadata": {},
   "source": [
    "We are assuming that *tags_counts* and *words_counts* are dictionaries like `{'some_word_or_tag': frequency}`. After applying the sorting procedure, results will be look like this: `[('most_popular_word_or_tag', frequency), ('less_popular_word_or_tag', frequency), ...]`. The grader gets the results in the following format (two comma-separated strings with line break):\n",
    "\n",
    "    tag1,tag2,tag3\n",
    "    word1,word2,word3\n",
    "\n",
    "Pay attention that in this assignment you should not submit frequencies or some additional information."
   ]
  },
  {
   "cell_type": "code",
   "execution_count": 19,
   "metadata": {
    "scrolled": true
   },
   "outputs": [
    {
     "name": "stdout",
     "output_type": "stream",
     "text": [
      "Current answer for task WordsTagsCount is:\n",
      " javascript,c#,java\n",
      "using,php,java...\n"
     ]
    }
   ],
   "source": [
    "most_common_tags = sorted(tags_counts.items(), key=lambda x: x[1], reverse=True)[:3]\n",
    "most_common_words = sorted(words_counts.items(), key=lambda x: x[1], reverse=True)[:3]\n",
    "\n",
    "grader.submit_tag('WordsTagsCount', '%s\\n%s' % (','.join(tag for tag, _ in most_common_tags), \n",
    "                                                ','.join(word for word, _ in most_common_words)))"
   ]
  },
  {
   "cell_type": "markdown",
   "metadata": {},
   "source": [
    "# Transforming text to a vector\n",
    "\n",
    "Machine Learning algorithms work with numeric data and we cannot use the provided text data \"as is\". There are many ways to transform text data to numeric vectors. In this task you will try to use two of them.\n",
    "\n",
    "## Bag of words\n",
    "\n",
    "One of the well-known approaches is a *bag-of-words* representation. To create this transformation, follow the steps:\n",
    "1. Find *N* most popular words in train corpus and numerate them. Now we have a dictionary of the most popular words.\n",
    "2. For each title in the corpora create a zero vector with the dimension equals to *N*.\n",
    "3. For each text in the corpora iterate over words which are in the dictionary and increase by 1 the corresponding coordinate.\n",
    "\n",
    "Let's try to do it for a toy example. Imagine that we have *N* = 4 and the list of the most popular words is \n",
    "\n",
    "    ['hi', 'you', 'me', 'are']\n",
    "\n",
    "Then we need to numerate them, for example, like this: \n",
    "\n",
    "    {'hi': 0, 'you': 1, 'me': 2, 'are': 3}\n",
    "\n",
    "And we have the text, which we want to transform to the vector:\n",
    "\n",
    "    'hi how are you'\n",
    "\n",
    "For this text we create a corresponding zero vector \n",
    "\n",
    "    [0, 0, 0, 0]\n",
    "    \n",
    "And iterate over all words, and if the word is in the dictionary, we increase the value of the corresponding position in the vector:\n",
    "\n",
    "    'hi':  [1, 0, 0, 0]\n",
    "    'how': [1, 0, 0, 0] # word 'how' is not in our dictionary\n",
    "    'are': [1, 0, 0, 1]\n",
    "    'you': [1, 1, 0, 1]\n",
    "\n",
    "The resulting vector will be \n",
    "\n",
    "    [1, 1, 0, 1]\n",
    "   \n",
    "Implement the described encoding in the function *my_bag_of_words* with the size of the dictionary equals to 5000. To find the most common words use train data. You can test your code using the function *test_my_bag_of_words*."
   ]
  },
  {
   "cell_type": "code",
   "execution_count": 20,
   "metadata": {},
   "outputs": [],
   "source": [
    "DICT_SIZE = 5000\n",
    "WORDS_TO_INDEX = {k: index for index, (k,v) in enumerate(sorted(words_counts.items(), key=lambda x: x[1], reverse=True)) if index < DICT_SIZE} ####### YOUR CODE HERE #######\n",
    "INDEX_TO_WORDS = {index: k for index, (k,v) in enumerate(sorted(words_counts.items(), key=lambda x: x[1], reverse=True)) if index < DICT_SIZE} ####### YOUR CODE HERE #######\n",
    "ALL_WORDS = WORDS_TO_INDEX.keys()\n",
    "\n",
    "def my_bag_of_words(text, words_to_index, dict_size):\n",
    "    \"\"\"\n",
    "        text: a string\n",
    "        dict_size: size of the dictionary\n",
    "        \n",
    "        return a vector which is a bag-of-words representation of 'text'\n",
    "    \"\"\"\n",
    "    result_vector = np.zeros(dict_size)\n",
    "    for word in text.split():\n",
    "        try:\n",
    "            result_vector[words_to_index[word]] += 1\n",
    "        except KeyError:\n",
    "            pass\n",
    "    return result_vector"
   ]
  },
  {
   "cell_type": "code",
   "execution_count": 21,
   "metadata": {},
   "outputs": [],
   "source": [
    "def test_my_bag_of_words():\n",
    "    words_to_index = {'hi': 0, 'you': 1, 'me': 2, 'are': 3}\n",
    "    examples = ['hi how are you']\n",
    "    answers = [[1, 1, 0, 1]]\n",
    "    for ex, ans in zip(examples, answers):\n",
    "        if (my_bag_of_words(ex, words_to_index, 4) != ans).any():\n",
    "            return \"Wrong answer for the case: '%s'\" % ex\n",
    "    return 'Basic tests are passed.'"
   ]
  },
  {
   "cell_type": "code",
   "execution_count": 22,
   "metadata": {},
   "outputs": [
    {
     "data": {
      "text/plain": [
       "'Basic tests are passed.'"
      ]
     },
     "execution_count": 22,
     "metadata": {},
     "output_type": "execute_result"
    }
   ],
   "source": [
    "test_my_bag_of_words()"
   ]
  },
  {
   "cell_type": "markdown",
   "metadata": {},
   "source": [
    "Now apply the implemented function to all samples (this might take up to a minute):"
   ]
  },
  {
   "cell_type": "code",
   "execution_count": 23,
   "metadata": {},
   "outputs": [],
   "source": [
    "from scipy import sparse as sp_sparse"
   ]
  },
  {
   "cell_type": "code",
   "execution_count": 24,
   "metadata": {},
   "outputs": [
    {
     "name": "stdout",
     "output_type": "stream",
     "text": [
      "X_train shape  (100000, 5000)\n",
      "X_val shape  (30000, 5000)\n",
      "X_test shape  (20000, 5000)\n"
     ]
    }
   ],
   "source": [
    "X_train_mybag = sp_sparse.vstack([sp_sparse.csr_matrix(my_bag_of_words(text, WORDS_TO_INDEX, DICT_SIZE)) for text in X_train])\n",
    "X_val_mybag = sp_sparse.vstack([sp_sparse.csr_matrix(my_bag_of_words(text, WORDS_TO_INDEX, DICT_SIZE)) for text in X_val])\n",
    "X_test_mybag = sp_sparse.vstack([sp_sparse.csr_matrix(my_bag_of_words(text, WORDS_TO_INDEX, DICT_SIZE)) for text in X_test])\n",
    "\n",
    "# X_train_mybag = np.vstack([np.array(my_bag_of_words(text, WORDS_TO_INDEX, DICT_SIZE)) for text in X_train])\n",
    "# X_val_mybag = np.vstack([np.array(my_bag_of_words(text, WORDS_TO_INDEX, DICT_SIZE)) for text in X_val])\n",
    "# X_test_mybag = np.vstack([np.array(my_bag_of_words(text, WORDS_TO_INDEX, DICT_SIZE)) for text in X_test])\n",
    "print('X_train shape ', X_train_mybag.shape)\n",
    "print('X_val shape ', X_val_mybag.shape)\n",
    "print('X_test shape ', X_test_mybag.shape)"
   ]
  },
  {
   "cell_type": "markdown",
   "metadata": {},
   "source": [
    "As you might notice, we transform the data to sparse representation, to store the useful information efficiently. There are many [types](https://docs.scipy.org/doc/scipy/reference/sparse.html) of such representations, however sklearn algorithms can work only with [csr](https://docs.scipy.org/doc/scipy/reference/generated/scipy.sparse.csr_matrix.html#scipy.sparse.csr_matrix) matrix, so we will use this one."
   ]
  },
  {
   "cell_type": "markdown",
   "metadata": {},
   "source": [
    "**Task 3 (BagOfWords).** For the 11th row in *X_train_mybag* find how many non-zero elements it has. In this task the answer (variable *non_zero_elements_count*) should be an integer number, e.g. 20."
   ]
  },
  {
   "cell_type": "code",
   "execution_count": 25,
   "metadata": {},
   "outputs": [
    {
     "name": "stdout",
     "output_type": "stream",
     "text": [
      "Current answer for task BagOfWords is:\n",
      " 7...\n"
     ]
    }
   ],
   "source": [
    "row = X_train_mybag[10].toarray()[0]\n",
    "# row = X_train_mybag[10]\n",
    "non_zero_elements_count = np.count_nonzero(row)####### YOUR CODE HERE #######\n",
    "\n",
    "grader.submit_tag('BagOfWords', str(non_zero_elements_count))"
   ]
  },
  {
   "cell_type": "markdown",
   "metadata": {},
   "source": [
    "# TF-IDF\n",
    "\n",
    "The second approach extends the bag-of-words framework by taking into account total frequencies of words in the corpora. It helps to penalize too frequent words and provide better features space. \n",
    "\n",
    "Implement function *tfidf_features* using class [TfidfVectorizer](http://scikit-learn.org/stable/modules/generated/sklearn.feature_extraction.text.TfidfVectorizer.html) from *scikit-learn*. Use *train* corpus to train a vectorizer. Don't forget to take a look into the arguments that you can pass to it. We suggest that you filter out too rare words (occur less than in 5 titles) and too frequent words (occur more than in 90% of the titles). Also, use bigrams along with unigrams in your vocabulary. "
   ]
  },
  {
   "cell_type": "code",
   "execution_count": 26,
   "metadata": {},
   "outputs": [],
   "source": [
    "from sklearn.feature_extraction.text import TfidfVectorizer"
   ]
  },
  {
   "cell_type": "code",
   "execution_count": 27,
   "metadata": {},
   "outputs": [],
   "source": [
    "def tfidf_features(X_train, X_val, X_test):\n",
    "    \"\"\"\n",
    "        X_train, X_val, X_test — samples        \n",
    "        return TF-IDF vectorized representation of each sample and vocabulary\n",
    "    \"\"\"\n",
    "    # Create TF-IDF vectorizer with a proper parameters choice\n",
    "    # Fit the vectorizer on the train set\n",
    "    # Transform the train, test, and val sets and return the result\n",
    "    \n",
    "    \n",
    "    tfidf_vectorizer = TfidfVectorizer(min_df=5, max_df=0.9, ngram_range=(1,2), token_pattern='(\\S+)')\n",
    "    X_train = tfidf_vectorizer.fit_transform(X_train)\n",
    "    X_test = tfidf_vectorizer.transform(X_test)\n",
    "    X_val = tfidf_vectorizer.transform(X_val)\n",
    "    \n",
    "    ######################################\n",
    "    ######### YOUR CODE HERE #############\n",
    "    ######################################\n",
    "    \n",
    "    return X_train, X_val, X_test, tfidf_vectorizer.vocabulary_, tfidf_vectorizer"
   ]
  },
  {
   "cell_type": "markdown",
   "metadata": {},
   "source": [
    "Once you have done text preprocessing, always have a look at the results. Be very careful at this step, because the performance of future models will drastically depend on it. \n",
    "\n",
    "In this case, check whether you have c++ or c# in your vocabulary, as they are obviously important tokens in our tags prediction task:"
   ]
  },
  {
   "cell_type": "code",
   "execution_count": 28,
   "metadata": {},
   "outputs": [
    {
     "name": "stdout",
     "output_type": "stream",
     "text": [
      "X_train_tfidf shape  (100000, 18300)\n",
      "X_val_tfidf shape  (30000, 18300)\n",
      "X_test_tfidf shape  (20000, 18300)\n"
     ]
    }
   ],
   "source": [
    "X_train_tfidf, X_val_tfidf, X_test_tfidf, tfidf_vocab, tfidf_vectorizer = tfidf_features(X_train, X_val, X_test)\n",
    "tfidf_reversed_vocab = {i:word for word,i in tfidf_vocab.items()}\n",
    "\n",
    "print('X_train_tfidf shape ', X_train_tfidf.shape)\n",
    "print('X_val_tfidf shape ', X_val_tfidf.shape)\n",
    "print('X_test_tfidf shape ', X_test_tfidf.shape)"
   ]
  },
  {
   "cell_type": "markdown",
   "metadata": {},
   "source": [
    "If you can't find it, we need to understand how did it happen that we lost them? It happened during the built-in tokenization of TfidfVectorizer. Luckily, we can influence on this process. Get back to the function above and use '(\\S+)' regexp as a *token_pattern* in the constructor of the vectorizer.  "
   ]
  },
  {
   "cell_type": "markdown",
   "metadata": {},
   "source": [
    "Now, use this transormation for the data and check again."
   ]
  },
  {
   "cell_type": "code",
   "execution_count": 29,
   "metadata": {},
   "outputs": [
    {
     "name": "stdout",
     "output_type": "stream",
     "text": [
      "True\n",
      "True\n"
     ]
    }
   ],
   "source": [
    "print(\"c++\" in tfidf_reversed_vocab.values())\n",
    "print(\"c#\" in tfidf_reversed_vocab.values())"
   ]
  },
  {
   "cell_type": "markdown",
   "metadata": {},
   "source": [
    "# MultiLabel classifier\n",
    "\n",
    "As we have noticed before, in this task each example can have multiple tags. To deal with such kind of prediction, we need to transform labels in a binary form and the prediction will be a mask of 0s and 1s. For this purpose it is convenient to use [MultiLabelBinarizer](http://scikit-learn.org/stable/modules/generated/sklearn.preprocessing.MultiLabelBinarizer.html) from *sklearn*."
   ]
  },
  {
   "cell_type": "code",
   "execution_count": 75,
   "metadata": {},
   "outputs": [],
   "source": [
    "from sklearn.preprocessing import MultiLabelBinarizer"
   ]
  },
  {
   "cell_type": "code",
   "execution_count": 31,
   "metadata": {},
   "outputs": [],
   "source": [
    "mlb = MultiLabelBinarizer(classes=sorted(tags_counts.keys()))\n",
    "y_train = mlb.fit_transform(y_train)\n",
    "y_val = mlb.fit_transform(y_val)"
   ]
  },
  {
   "cell_type": "markdown",
   "metadata": {},
   "source": [
    "# Here we train a Neural Network with using GPU\n",
    "\n",
    "To run keras with GPU please refer to - https://medium.com/@kegui/how-do-i-know-i-am-running-keras-model-on-gpu-a9cdcc24f986\n"
   ]
  },
  {
   "cell_type": "code",
   "execution_count": 32,
   "metadata": {},
   "outputs": [
    {
     "name": "stderr",
     "output_type": "stream",
     "text": [
      "Using TensorFlow backend.\n"
     ]
    }
   ],
   "source": [
    "import tensorflow as tf\n",
    "import keras\n",
    "\n",
    "config = tf.ConfigProto(device_count = {'GPU': 1 , 'CPU': 8}) \n",
    "sess = tf.Session(config=config) \n",
    "keras.backend.set_session(sess)\n",
    "\n",
    "from keras.models import Sequential\n",
    "from keras.layers import Dense\n",
    "from keras.layers import Dropout\n",
    "from keras.regularizers import l2"
   ]
  },
  {
   "cell_type": "code",
   "execution_count": 33,
   "metadata": {},
   "outputs": [
    {
     "name": "stdout",
     "output_type": "stream",
     "text": [
      "[name: \"/device:CPU:0\"\n",
      "device_type: \"CPU\"\n",
      "memory_limit: 268435456\n",
      "locality {\n",
      "}\n",
      "incarnation: 812600134825076553\n",
      ", name: \"/device:GPU:0\"\n",
      "device_type: \"GPU\"\n",
      "memory_limit: 6588081767\n",
      "locality {\n",
      "  bus_id: 1\n",
      "  links {\n",
      "  }\n",
      "}\n",
      "incarnation: 17907784071377389296\n",
      "physical_device_desc: \"device: 0, name: GeForce RTX 2080, pci bus id: 0000:02:00.0, compute capability: 7.5\"\n",
      "]\n"
     ]
    }
   ],
   "source": [
    "from tensorflow.python.client import device_lib\n",
    "print(device_lib.list_local_devices())"
   ]
  },
  {
   "cell_type": "code",
   "execution_count": 34,
   "metadata": {},
   "outputs": [],
   "source": [
    "def train_classifier_nn(X_train, y_train):\n",
    "    model = Sequential()\n",
    "    model.add(Dense(\n",
    "        1000,\n",
    "        input_dim=5000,\n",
    "        activation='relu',\n",
    "        kernel_regularizer=l2(0.001),\n",
    "        bias_regularizer=l2(0.001),\n",
    "        kernel_initializer='he_uniform')\n",
    "    )\n",
    "    model.add(Dropout(0.5))\n",
    "    model.add(Dense(500, activation='relu'))\n",
    "    model.add(Dense(100, activation='softmax'))\n",
    "    model.compile(\n",
    "        loss='categorical_crossentropy',\n",
    "        optimizer='nadam',\n",
    "        metrics=['accuracy'])\n",
    "    model.fit(X_train, y_train, epochs=20, batch_size=32)\n",
    "    \n",
    "    return model"
   ]
  },
  {
   "cell_type": "code",
   "execution_count": 35,
   "metadata": {
    "scrolled": true
   },
   "outputs": [
    {
     "name": "stdout",
     "output_type": "stream",
     "text": [
      "WARNING:tensorflow:From C:\\Users\\Cagri\\Anaconda3\\lib\\site-packages\\tensorflow\\python\\framework\\op_def_library.py:263: colocate_with (from tensorflow.python.framework.ops) is deprecated and will be removed in a future version.\n",
      "Instructions for updating:\n",
      "Colocations handled automatically by placer.\n",
      "WARNING:tensorflow:From C:\\Users\\Cagri\\Anaconda3\\lib\\site-packages\\keras\\backend\\tensorflow_backend.py:3445: calling dropout (from tensorflow.python.ops.nn_ops) with keep_prob is deprecated and will be removed in a future version.\n",
      "Instructions for updating:\n",
      "Please use `rate` instead of `keep_prob`. Rate should be set to `rate = 1 - keep_prob`.\n",
      "WARNING:tensorflow:From C:\\Users\\Cagri\\Anaconda3\\lib\\site-packages\\tensorflow\\python\\ops\\math_ops.py:3066: to_int32 (from tensorflow.python.ops.math_ops) is deprecated and will be removed in a future version.\n",
      "Instructions for updating:\n",
      "Use tf.cast instead.\n",
      "Epoch 1/20\n",
      "100000/100000 [==============================] - 24s 241us/step - loss: 6.2416 - acc: 0.4275\n",
      "Epoch 2/20\n",
      "100000/100000 [==============================] - 23s 233us/step - loss: 6.2872 - acc: 0.4365\n",
      "Epoch 3/20\n",
      "100000/100000 [==============================] - 24s 240us/step - loss: 6.2462 - acc: 0.4378\n",
      "Epoch 4/20\n",
      "100000/100000 [==============================] - 23s 233us/step - loss: 6.2050 - acc: 0.4395\n",
      "Epoch 5/20\n",
      "100000/100000 [==============================] - 25s 247us/step - loss: 6.1671 - acc: 0.4399\n",
      "Epoch 6/20\n",
      "100000/100000 [==============================] - 24s 240us/step - loss: 6.1399 - acc: 0.4417\n",
      "Epoch 7/20\n",
      "100000/100000 [==============================] - 24s 239us/step - loss: 6.0987 - acc: 0.4427\n",
      "Epoch 8/20\n",
      "100000/100000 [==============================] - 23s 234us/step - loss: 6.0723 - acc: 0.4429\n",
      "Epoch 9/20\n",
      "100000/100000 [==============================] - 23s 233us/step - loss: 6.0366 - acc: 0.4421\n",
      "Epoch 10/20\n",
      "100000/100000 [==============================] - 23s 234us/step - loss: 6.0182 - acc: 0.4426\n",
      "Epoch 11/20\n",
      "100000/100000 [==============================] - 25s 250us/step - loss: 5.9852 - acc: 0.4435\n",
      "Epoch 12/20\n",
      "100000/100000 [==============================] - 23s 230us/step - loss: 5.9520 - acc: 0.4437\n",
      "Epoch 13/20\n",
      "100000/100000 [==============================] - 23s 230us/step - loss: 5.9404 - acc: 0.4433\n",
      "Epoch 14/20\n",
      "100000/100000 [==============================] - 23s 230us/step - loss: 5.9129 - acc: 0.4435\n",
      "Epoch 15/20\n",
      "100000/100000 [==============================] - 23s 231us/step - loss: 5.9115 - acc: 0.4437\n",
      "Epoch 16/20\n",
      "100000/100000 [==============================] - 23s 230us/step - loss: 5.8979 - acc: 0.4453\n",
      "Epoch 17/20\n",
      "100000/100000 [==============================] - 23s 230us/step - loss: 5.8852 - acc: 0.4432\n",
      "Epoch 18/20\n",
      "100000/100000 [==============================] - 23s 230us/step - loss: 5.8801 - acc: 0.4430\n",
      "Epoch 19/20\n",
      "100000/100000 [==============================] - 23s 230us/step - loss: 5.8487 - acc: 0.4439\n",
      "Epoch 20/20\n",
      "100000/100000 [==============================] - 23s 230us/step - loss: 5.8445 - acc: 0.4440\n"
     ]
    }
   ],
   "source": [
    "clf_nn = train_classifier_nn(X_train_mybag, y_train)"
   ]
  },
  {
   "cell_type": "markdown",
   "metadata": {},
   "source": [
    "# Train a Logistic Regression classifier"
   ]
  },
  {
   "cell_type": "markdown",
   "metadata": {},
   "source": [
    "Implement the function *train_classifier* for training a classifier. In this task we suggest to use One-vs-Rest approach, which is implemented in [OneVsRestClassifier](http://scikit-learn.org/stable/modules/generated/sklearn.multiclass.OneVsRestClassifier.html) class. In this approach *k* classifiers (= number of tags) are trained. As a basic classifier, use [LogisticRegression](http://scikit-learn.org/stable/modules/generated/sklearn.linear_model.LogisticRegression.html). It is one of the simplest methods, but often it performs good enough in text classification tasks. It might take some time, because a number of classifiers to train is large."
   ]
  },
  {
   "cell_type": "code",
   "execution_count": 37,
   "metadata": {},
   "outputs": [],
   "source": [
    "from sklearn.multiclass import OneVsRestClassifier\n",
    "from sklearn.linear_model import LogisticRegression, RidgeClassifier"
   ]
  },
  {
   "cell_type": "code",
   "execution_count": 38,
   "metadata": {},
   "outputs": [],
   "source": [
    "def train_classifier(X_train, y_train):\n",
    "    \"\"\"\n",
    "      X_train, y_train — training data\n",
    "      \n",
    "      return: trained classifier\n",
    "    \"\"\"\n",
    "    \n",
    "    # Create and fit LogisticRegression wraped into OneVsRestClassifier.\n",
    "    \n",
    "    ######################################\n",
    "    ######### YOUR CODE HERE #############\n",
    "    ######################################\n",
    "    log = LogisticRegression(random_state=0)\n",
    "    ovr = OneVsRestClassifier(log, n_jobs=-1)\n",
    "\n",
    "    return ovr.fit(X_train, y_train)"
   ]
  },
  {
   "cell_type": "markdown",
   "metadata": {},
   "source": [
    "Train the classifiers for different data transformations: *bag-of-words* and *tf-idf*."
   ]
  },
  {
   "cell_type": "code",
   "execution_count": 39,
   "metadata": {
    "scrolled": true
   },
   "outputs": [
    {
     "name": "stderr",
     "output_type": "stream",
     "text": [
      "C:\\Users\\Cagri\\Anaconda3\\lib\\site-packages\\sklearn\\linear_model\\logistic.py:433: FutureWarning: Default solver will be changed to 'lbfgs' in 0.22. Specify a solver to silence this warning.\n",
      "  FutureWarning)\n",
      "C:\\Users\\Cagri\\Anaconda3\\lib\\site-packages\\sklearn\\linear_model\\logistic.py:433: FutureWarning: Default solver will be changed to 'lbfgs' in 0.22. Specify a solver to silence this warning.\n",
      "  FutureWarning)\n"
     ]
    }
   ],
   "source": [
    "classifier_mybag = train_classifier(X_train_mybag, y_train)\n",
    "classifier_tfidf = train_classifier(X_train_tfidf, y_train)"
   ]
  },
  {
   "cell_type": "markdown",
   "metadata": {},
   "source": [
    "Now you can create predictions for the data. You will need two types of predictions: labels and scores."
   ]
  },
  {
   "cell_type": "code",
   "execution_count": 40,
   "metadata": {},
   "outputs": [],
   "source": [
    "y_val_predicted_labels_mybag = classifier_mybag.predict(X_val_mybag)\n",
    "y_val_predicted_scores_mybag = classifier_mybag.decision_function(X_val_mybag)\n",
    "\n",
    "y_val_predicted_labels_tfidf = classifier_tfidf.predict(X_val_tfidf)\n",
    "y_val_predicted_scores_tfidf = classifier_tfidf.decision_function(X_val_tfidf)"
   ]
  },
  {
   "cell_type": "markdown",
   "metadata": {},
   "source": [
    "Now take a look at how classifier, which uses TF-IDF, works for a few examples:"
   ]
  },
  {
   "cell_type": "code",
   "execution_count": 41,
   "metadata": {
    "scrolled": true
   },
   "outputs": [
    {
     "name": "stdout",
     "output_type": "stream",
     "text": [
      "Title:\todbc_exec always fail\n",
      "True labels:\tphp,sql\n",
      "Predicted labels:\t\n",
      "\n",
      "\n",
      "Title:\taccess base classes variable within child class\n",
      "True labels:\tjavascript\n",
      "Predicted labels:\t\n",
      "\n",
      "\n",
      "Title:\tcontenttype application json required rails\n",
      "True labels:\truby,ruby-on-rails\n",
      "Predicted labels:\tjson,ruby-on-rails\n",
      "\n",
      "\n",
      "Title:\tsessions sinatra used pass variable\n",
      "True labels:\truby,session\n",
      "Predicted labels:\t\n",
      "\n",
      "\n",
      "Title:\tgetting error type json exist postgresql rake db migrate\n",
      "True labels:\tjson,ruby,ruby-on-rails\n",
      "Predicted labels:\truby-on-rails\n",
      "\n",
      "\n",
      "Title:\tlibrary found\n",
      "True labels:\tc++,ios,iphone,xcode\n",
      "Predicted labels:\t\n",
      "\n",
      "\n",
      "Title:\tcsproj file programmatic adding deleting files\n",
      "True labels:\tc#\n",
      "Predicted labels:\t\n",
      "\n",
      "\n",
      "Title:\ttypeerror makedirs got unexpected keyword argument exists_ok\n",
      "True labels:\tdjango,python\n",
      "Predicted labels:\tpython\n",
      "\n",
      "\n",
      "Title:\tpan div using jquery\n",
      "True labels:\thtml,javascript,jquery\n",
      "Predicted labels:\tjavascript,jquery\n",
      "\n",
      "\n",
      "Title:\thibernate intermediate advanced tutorials\n",
      "True labels:\thibernate,java\n",
      "Predicted labels:\thibernate,java\n",
      "\n",
      "\n",
      "Title:\tc# properties access values another function class\n",
      "True labels:\t.net,c#,class\n",
      "Predicted labels:\tc#\n",
      "\n",
      "\n",
      "Title:\tuse databinding 3d elements like visual3d uielement3d\n",
      "True labels:\tc#,wpf\n",
      "Predicted labels:\t\n",
      "\n",
      "\n",
      "Title:\tcheck video exists youtube using php\n",
      "True labels:\tphp\n",
      "Predicted labels:\tphp\n",
      "\n",
      "\n",
      "Title:\thandle mouse dragging event jfreechart\n",
      "True labels:\tjava\n",
      "Predicted labels:\t\n",
      "\n",
      "\n",
      "Title:\tdynamic data matrix wpf\n",
      "True labels:\tc#,wpf\n",
      "Predicted labels:\tc#,wpf\n",
      "\n",
      "\n",
      "Title:\twpf button external background image\n",
      "True labels:\tc#,wpf\n",
      "Predicted labels:\tc#,wpf\n",
      "\n",
      "\n",
      "Title:\tisdigit rational numbers\n",
      "True labels:\tpython,string\n",
      "Predicted labels:\t\n",
      "\n",
      "\n",
      "Title:\tmake clicked tab active bootstrap\n",
      "True labels:\tdjango,twitter-bootstrap\n",
      "Predicted labels:\thtml,javascript,jquery,twitter-bootstrap\n",
      "\n",
      "\n",
      "Title:\tunable load class comgooglegsonjsonobject\n",
      "True labels:\tandroid,java\n",
      "Predicted labels:\t\n",
      "\n",
      "\n",
      "Title:\tdetermine string valid float value\n",
      "True labels:\truby,ruby-on-rails\n",
      "Predicted labels:\t\n",
      "\n",
      "\n",
      "Title:\tphp equivalent javascript gettime\n",
      "True labels:\tdatetime,javascript,php\n",
      "Predicted labels:\tjavascript,php\n",
      "\n",
      "\n",
      "Title:\tunknown python expression filenamer path file\n",
      "True labels:\tpython,string\n",
      "Predicted labels:\tpython\n",
      "\n",
      "\n",
      "Title:\tfind index first uppercase character\n",
      "True labels:\tc#,linq,string\n",
      "Predicted labels:\t\n",
      "\n",
      "\n",
      "Title:\tandroid webviewloaddatawithbaseurl fail render javascript\n",
      "True labels:\tandroid,javascript\n",
      "Predicted labels:\tandroid,javascript\n",
      "\n",
      "\n",
      "Title:\tremoving lines within filledcontour legend\n",
      "True labels:\tr\n",
      "Predicted labels:\t\n",
      "\n",
      "\n",
      "Title:\tstop disable internet access java\n",
      "True labels:\tjava\n",
      "Predicted labels:\tjava\n",
      "\n",
      "\n",
      "Title:\ttranslate function names django admin\n",
      "True labels:\tdjango\n",
      "Predicted labels:\tdjango\n",
      "\n",
      "\n",
      "Title:\toracle jdbc euro character\n",
      "True labels:\tdatabase,java\n",
      "Predicted labels:\tjava\n",
      "\n",
      "\n",
      "Title:\trspec controller tests put update action nested resource\n",
      "True labels:\truby-on-rails\n",
      "Predicted labels:\truby-on-rails\n",
      "\n",
      "\n",
      "Title:\tjava objectinputstream\n",
      "True labels:\tjava\n",
      "Predicted labels:\tjava\n",
      "\n",
      "\n",
      "Title:\tajax data uncaught referenceerror date defined\n",
      "True labels:\tajax,javascript,jquery\n",
      "Predicted labels:\tajax,javascript,jquery\n",
      "\n",
      "\n",
      "Title:\tlifecycle method fragment execute asynctask\n",
      "True labels:\tandroid,java\n",
      "Predicted labels:\tandroid,java\n",
      "\n",
      "\n",
      "Title:\tunuse namespace\n",
      "True labels:\tc++\n",
      "Predicted labels:\tc#\n",
      "\n",
      "\n",
      "Title:\tremove html tags format text returns spaces etc using net\n",
      "True labels:\t.net,c#,html\n",
      "Predicted labels:\tc#\n",
      "\n",
      "\n",
      "Title:\tinitialization makes pointer integer without cast c\n",
      "True labels:\tc,pointers\n",
      "Predicted labels:\tc\n",
      "\n",
      "\n",
      "Title:\tgetting list every listeners symfony2\n",
      "True labels:\tphp\n",
      "Predicted labels:\tphp\n",
      "\n",
      "\n",
      "Title:\tr align time series different frequencies\n",
      "True labels:\tcsv,r\n",
      "Predicted labels:\tr\n",
      "\n",
      "\n",
      "Title:\tinsert picture database sqlite java code\n",
      "True labels:\tjava,sql\n",
      "Predicted labels:\tjava\n",
      "\n",
      "\n",
      "Title:\tgroup clause linq\n",
      "True labels:\tc#,linq\n",
      "Predicted labels:\tc#,linq\n",
      "\n",
      "\n",
      "Title:\tjavascript code explanation e etarget windowevent windoweventsrcelement\n",
      "True labels:\thtml,javascript\n",
      "Predicted labels:\tjavascript\n",
      "\n",
      "\n",
      "Title:\tfind second highest variable array\n",
      "True labels:\tphp\n",
      "Predicted labels:\tarrays\n",
      "\n",
      "\n",
      "Title:\thide statusbar uitabbarcontroller enters landscape mode\n",
      "True labels:\tios,iphone,objective-c\n",
      "Predicted labels:\t\n",
      "\n",
      "\n",
      "Title:\tconverting audio files preserving album artwork ffmpeg\n",
      "True labels:\tphp\n",
      "Predicted labels:\t\n",
      "\n",
      "\n",
      "Title:\tlinq optimizations iorderedenumerable\n",
      "True labels:\t.net,c#,linq\n",
      "Predicted labels:\tc#,linq\n",
      "\n",
      "\n",
      "Title:\tadonet concurrent connections max pool size timeout error\n",
      "True labels:\tc#,multithreading,sockets\n",
      "Predicted labels:\t\n",
      "\n",
      "\n",
      "Title:\twindowonload fired\n",
      "True labels:\tjavascript\n",
      "Predicted labels:\t\n",
      "\n",
      "\n",
      "Title:\tdelete cookie codeigniter\n",
      "True labels:\tcodeigniter,php\n",
      "Predicted labels:\tcodeigniter,php\n",
      "\n",
      "\n",
      "Title:\ttestng fails load test classes ant\n",
      "True labels:\tjava\n",
      "Predicted labels:\tjava\n",
      "\n",
      "\n",
      "Title:\tget wordpress user profile url link id\n",
      "True labels:\tjquery,php,wordpress\n",
      "Predicted labels:\tphp,wordpress\n",
      "\n",
      "\n",
      "Title:\terror mean somefilec200 error frame size 1032 bytes larger 1024 bytes\n",
      "True labels:\tc\n",
      "Predicted labels:\t\n",
      "\n",
      "\n"
     ]
    }
   ],
   "source": [
    "y_val_pred_inversed = mlb.inverse_transform(y_val_predicted_labels_tfidf)\n",
    "y_val_inversed = mlb.inverse_transform(y_val)\n",
    "for i in range(50):\n",
    "    print('Title:\\t{}\\nTrue labels:\\t{}\\nPredicted labels:\\t{}\\n\\n'.format(\n",
    "        X_val[i],\n",
    "        ','.join(y_val_inversed[i]),\n",
    "        ','.join(y_val_pred_inversed[i])\n",
    "    ))"
   ]
  },
  {
   "cell_type": "markdown",
   "metadata": {},
   "source": [
    "Now, we would need to compare the results of different predictions, e.g. to see whether TF-IDF transformation helps or to try different regularization techniques in logistic regression. For all these experiments, we need to setup evaluation procedure. "
   ]
  },
  {
   "cell_type": "markdown",
   "metadata": {},
   "source": [
    "# Evaluation\n",
    "\n",
    "To evaluate the results we will use several classification metrics:\n",
    " - [Accuracy](http://scikit-learn.org/stable/modules/generated/sklearn.metrics.accuracy_score.html)\n",
    " - [F1-score](http://scikit-learn.org/stable/modules/generated/sklearn.metrics.f1_score.html)\n",
    " - [Area under ROC-curve](http://scikit-learn.org/stable/modules/generated/sklearn.metrics.roc_auc_score.html)\n",
    " - [Area under precision-recall curve](http://scikit-learn.org/stable/modules/generated/sklearn.metrics.average_precision_score.html#sklearn.metrics.average_precision_score) \n",
    " \n",
    "Make sure you are familiar with all of them. How would you expect the things work for the multi-label scenario? Read about micro/macro/weighted averaging following the sklearn links provided above."
   ]
  },
  {
   "cell_type": "code",
   "execution_count": 42,
   "metadata": {},
   "outputs": [],
   "source": [
    "from sklearn.metrics import accuracy_score\n",
    "from sklearn.metrics import f1_score\n",
    "from sklearn.metrics import roc_auc_score \n",
    "from sklearn.metrics import average_precision_score\n",
    "from sklearn.metrics import recall_score"
   ]
  },
  {
   "cell_type": "markdown",
   "metadata": {},
   "source": [
    "Implement the function *print_evaluation_scores* which calculates and prints to stdout:\n",
    " - *accuracy*\n",
    " - *F1-score macro/micro/weighted*\n",
    " - *Precision macro/micro/weighted*"
   ]
  },
  {
   "cell_type": "code",
   "execution_count": 43,
   "metadata": {},
   "outputs": [],
   "source": [
    "def print_evaluation_scores(y_val, predicted):\n",
    "    \n",
    "    ######################################\n",
    "    ######### YOUR CODE HERE #############\n",
    "    ######################################\n",
    "    print('\\tAccuracy: %s' %accuracy_score(y_val, predicted))\n",
    "    print('\\n\\tF1 score - macro: %s' %f1_score(y_val, predicted, average='macro'))\n",
    "    print('\\tF1 score - micro: %s' %f1_score(y_val, predicted, average='micro'))\n",
    "    print('\\tF1 score - averaged: %s' %f1_score(y_val, predicted, average='weighted'))\n",
    "    print('\\n\\tPrecision - macro: %s' %average_precision_score(y_val, predicted, average='macro'))\n",
    "    print('\\tPrecision - micro: %s' %average_precision_score(y_val, predicted, average='micro'))\n",
    "    print('\\tPrecision - averaged: %s' %average_precision_score(y_val, predicted, average='weighted'))"
   ]
  },
  {
   "cell_type": "markdown",
   "metadata": {},
   "source": [
    "# Neural Network evaluation"
   ]
  },
  {
   "cell_type": "code",
   "execution_count": 92,
   "metadata": {},
   "outputs": [
    {
     "name": "stdout",
     "output_type": "stream",
     "text": [
      "\tAccuracy: 0.2723\n",
      "\n",
      "\tF1 score - macro: 0.5442367634000466\n",
      "\tF1 score - micro: 0.6585482330468003\n",
      "\tF1 score - averaged: 0.6512388858703948\n",
      "\n",
      "\tPrecision - macro: 0.35795863925237287\n",
      "\tPrecision - micro: 0.44119084050878915\n",
      "\tPrecision - averaged: 0.4759716279674197\n"
     ]
    }
   ],
   "source": [
    "#Training accuracy\n",
    "y_train_predicted_labels_mybag = clf_nn.predict(X_train_mybag)\n",
    "y_train_predicted_labels_mybag = np.where(y_train_predicted_labels_mybag > 0.1, 1, 0)\n",
    "print_evaluation_scores(y_train, y_train_predicted_labels_mybag)"
   ]
  },
  {
   "cell_type": "code",
   "execution_count": 93,
   "metadata": {},
   "outputs": [
    {
     "name": "stdout",
     "output_type": "stream",
     "text": [
      "\tAccuracy: 0.2511333333333333\n",
      "\n",
      "\tF1 score - macro: 0.5105375160185767\n",
      "\tF1 score - micro: 0.6330364541848696\n",
      "\tF1 score - averaged: 0.6241187477475076\n",
      "\n",
      "\tPrecision - macro: 0.32701637447415716\n",
      "\tPrecision - micro: 0.4085016506745788\n",
      "\tPrecision - averaged: 0.44567973319510346\n"
     ]
    }
   ],
   "source": [
    "#Val accuracy\n",
    "val_predictions_nn = clf_nn.predict(X_val_mybag)\n",
    "val_predictions_nn = np.where(val_predictions_nn > 0.1, 1, 0)\n",
    "val_predictions_inversed_nn = mlb.inverse_transform(val_predictions_nn)\n",
    "\n",
    "print_evaluation_scores(y_val, val_predictions_nn) "
   ]
  },
  {
   "cell_type": "code",
   "execution_count": 46,
   "metadata": {
    "scrolled": true
   },
   "outputs": [
    {
     "name": "stdout",
     "output_type": "stream",
     "text": [
      "Actual: php,sql\n",
      "Predicted: \n",
      "***   odbc_exec always fail   ***\n",
      "\n",
      "Actual: javascript\n",
      "Predicted: \n",
      "***   access base classes variable within child class   ***\n",
      "\n",
      "Actual: ruby-on-rails,ruby\n",
      "Predicted: ruby-on-rails\n",
      "***   contenttype application json required rails   ***\n",
      "\n",
      "Actual: ruby,session\n",
      "Predicted: \n",
      "***   sessions sinatra used pass variable   ***\n",
      "\n",
      "Actual: ruby-on-rails,ruby,json\n",
      "Predicted: \n",
      "***   getting error type json exist postgresql rake db migrate   ***\n",
      "\n",
      "Actual: c++,iphone,ios,xcode\n",
      "Predicted: \n",
      "***   library found   ***\n",
      "\n",
      "Actual: c#\n",
      "Predicted: \n",
      "***   csproj file programmatic adding deleting files   ***\n",
      "\n",
      "Actual: python,django\n",
      "Predicted: \n",
      "***   typeerror makedirs got unexpected keyword argument exists_ok   ***\n",
      "\n",
      "Actual: javascript,jquery,html\n",
      "Predicted: javascript,jquery\n",
      "***   pan div using jquery   ***\n",
      "\n",
      "Actual: java,hibernate\n",
      "Predicted: hibernate,java\n",
      "***   hibernate intermediate advanced tutorials   ***\n",
      "\n",
      "Actual: c#,.net,class\n",
      "Predicted: c#\n",
      "***   c# properties access values another function class   ***\n",
      "\n",
      "Actual: c#,wpf\n",
      "Predicted: \n",
      "***   use databinding 3d elements like visual3d uielement3d   ***\n",
      "\n",
      "Actual: php\n",
      "Predicted: php\n",
      "***   check video exists youtube using php   ***\n",
      "\n",
      "Actual: java\n",
      "Predicted: \n",
      "***   handle mouse dragging event jfreechart   ***\n",
      "\n",
      "Actual: c#,wpf\n",
      "Predicted: c#\n",
      "***   dynamic data matrix wpf   ***\n",
      "\n",
      "Actual: c#,wpf\n",
      "Predicted: c#,wpf\n",
      "***   wpf button external background image   ***\n",
      "\n",
      "Actual: python,string\n",
      "Predicted: \n",
      "***   isdigit rational numbers   ***\n",
      "\n",
      "Actual: django,twitter-bootstrap\n",
      "Predicted: javascript,twitter-bootstrap\n",
      "***   make clicked tab active bootstrap   ***\n",
      "\n",
      "Actual: java,android\n",
      "Predicted: \n",
      "***   unable load class comgooglegsonjsonobject   ***\n",
      "\n",
      "Actual: ruby-on-rails,ruby\n",
      "Predicted: \n",
      "***   determine string valid float value   ***\n",
      "\n",
      "Actual: javascript,php,datetime\n",
      "Predicted: javascript,php\n",
      "***   php equivalent javascript gettime   ***\n",
      "\n",
      "Actual: python,string\n",
      "Predicted: python\n",
      "***   unknown python expression filenamer path file   ***\n",
      "\n",
      "Actual: c#,string,linq\n",
      "Predicted: \n",
      "***   find index first uppercase character   ***\n",
      "\n",
      "Actual: javascript,android\n",
      "Predicted: android,javascript\n",
      "***   android webviewloaddatawithbaseurl fail render javascript   ***\n",
      "\n",
      "Actual: r\n",
      "Predicted: \n",
      "***   removing lines within filledcontour legend   ***\n",
      "\n",
      "Actual: java\n",
      "Predicted: java\n",
      "***   stop disable internet access java   ***\n",
      "\n"
     ]
    }
   ],
   "source": [
    "for index, tag in enumerate(val_predictions_inversed_nn):\n",
    "    print(\"Actual: \" + \",\".join(y_val_nb[index]) + \"\\nPredicted: \" + \",\".join(tag))\n",
    "    print(\"***   \" + X_val[index] + \"   ***\" + \"\\n\")\n",
    "    if index == 25:\n",
    "        break"
   ]
  },
  {
   "cell_type": "markdown",
   "metadata": {},
   "source": [
    "# Logistic Regression evaluation"
   ]
  },
  {
   "cell_type": "code",
   "execution_count": 48,
   "metadata": {
    "scrolled": true
   },
   "outputs": [
    {
     "name": "stdout",
     "output_type": "stream",
     "text": [
      "Bag-of-words\n",
      "\tAccuracy: 0.358\n",
      "\n",
      "\tF1 score - macro: 0.5047325582597497\n",
      "\tF1 score - micro: 0.6710820449370445\n",
      "\tF1 score - averaged: 0.6486950381244107\n",
      "\n",
      "\tPrecision - macro: 0.34458812912520126\n",
      "\tPrecision - micro: 0.4812849070834009\n",
      "\tPrecision - averaged: 0.5108520393587743\n",
      "\n",
      "Tfidf\n",
      "\tAccuracy: 0.33393333333333336\n",
      "\n",
      "\tF1 score - macro: 0.4457086744251823\n",
      "\tF1 score - micro: 0.6418163705430939\n",
      "\tF1 score - averaged: 0.6143558163126149\n",
      "\n",
      "\tPrecision - macro: 0.3020305673777862\n",
      "\tPrecision - micro: 0.4569884331121471\n",
      "\tPrecision - averaged: 0.4850969506864473\n"
     ]
    }
   ],
   "source": [
    "print('Bag-of-words')\n",
    "print_evaluation_scores(y_val, y_val_predicted_labels_mybag)\n",
    "print('\\nTfidf')\n",
    "print_evaluation_scores(y_val, y_val_predicted_labels_tfidf)"
   ]
  },
  {
   "cell_type": "code",
   "execution_count": 49,
   "metadata": {
    "scrolled": true
   },
   "outputs": [
    {
     "name": "stdout",
     "output_type": "stream",
     "text": [
      "\tAccuracy: 0.41205\n",
      "\n",
      "\tF1 score - macro: 0.5768408492551341\n",
      "\tF1 score - micro: 0.7125431315863099\n",
      "\tF1 score - averaged: 0.6920132871516298\n",
      "\n",
      "\tPrecision - macro: 0.4183163933382161\n",
      "\tPrecision - micro: 0.5385207988288132\n",
      "\tPrecision - averaged: 0.5600412361652674\n"
     ]
    }
   ],
   "source": [
    "# Train metrics of my_bag\n",
    "y_val_predicted_labels_mybag = classifier_mybag.predict(X_train_mybag)\n",
    "print_evaluation_scores(y_train, y_val_predicted_labels_mybag)"
   ]
  },
  {
   "cell_type": "markdown",
   "metadata": {},
   "source": [
    "You might also want to plot some generalization of the [ROC curve](http://scikit-learn.org/stable/modules/model_evaluation.html#receiver-operating-characteristic-roc) for the case of multi-label classification. Provided function *roc_auc* can make it for you. The input parameters of this function are:\n",
    " - true labels\n",
    " - decision functions scores\n",
    " - number of classes"
   ]
  },
  {
   "cell_type": "code",
   "execution_count": 50,
   "metadata": {},
   "outputs": [],
   "source": [
    "from metrics import roc_auc\n",
    "%matplotlib inline"
   ]
  },
  {
   "cell_type": "code",
   "execution_count": 51,
   "metadata": {},
   "outputs": [
    {
     "data": {
      "image/png": "[encoded data removed]",
      "text/plain": [
       "<Figure size 432x288 with 1 Axes>"
      ]
     },
     "metadata": {
      "needs_background": "light"
     },
     "output_type": "display_data"
    }
   ],
   "source": [
    "n_classes = len(tags_counts)\n",
    "roc_auc(y_val, y_val_predicted_scores_mybag, n_classes)"
   ]
  },
  {
   "cell_type": "code",
   "execution_count": 52,
   "metadata": {
    "scrolled": true
   },
   "outputs": [
    {
     "data": {
      "image/png": "[encoded data removed]",
      "text/plain": [
       "<Figure size 432x288 with 1 Axes>"
      ]
     },
     "metadata": {
      "needs_background": "light"
     },
     "output_type": "display_data"
    }
   ],
   "source": [
    "n_classes = len(tags_counts)\n",
    "roc_auc(y_val, y_val_predicted_scores_tfidf, n_classes)"
   ]
  },
  {
   "cell_type": "markdown",
   "metadata": {},
   "source": [
    "**Task 4 (MultilabelClassification).** Once we have the evaluation set up, we suggest that you experiment a bit with training your classifiers. We will use *F1-score weighted* as an evaluation metric. Our recommendation:\n",
    "- compare the quality of the bag-of-words and TF-IDF approaches and chose one of them.\n",
    "- for the chosen one, try *L1* and *L2*-regularization techniques in Logistic Regression with different coefficients (e.g. C equal to 0.1, 1, 10, 100).\n",
    "\n",
    "You also could try other improvements of the preprocessing / model, if you want. "
   ]
  },
  {
   "cell_type": "code",
   "execution_count": 53,
   "metadata": {},
   "outputs": [],
   "source": [
    "from sklearn.model_selection import GridSearchCV\n",
    "from sklearn.model_selection import RandomizedSearchCV"
   ]
  },
  {
   "cell_type": "code",
   "execution_count": 54,
   "metadata": {},
   "outputs": [],
   "source": [
    "######################################\n",
    "######### YOUR CODE HERE #############\n",
    "######################################\n",
    "def run_gs():\n",
    "    param_grid  = {'estimator__penalty':['l1', 'l2'], 'estimator__C':[0.1, 1, 10, 100]}\n",
    "\n",
    "    OVR_tfidf = OneVsRestClassifier(LogisticRegression(), n_jobs=-1)\n",
    "    clf_tfidf = (GridSearchCV(OVR_tfidf, param_grid, cv=2, n_jobs=-1, scoring='f1_weighted'))\n",
    "    clf_tfidf.fit(X_train_tfidf, y_train)\n",
    "\n",
    "    OVR_bag = OneVsRestClassifier(LogisticRegression(), n_jobs=-1)\n",
    "    clf_bag = (GridSearchCV(OVR_bag, param_grid, cv=2, n_jobs=-1, scoring='f1_weighted'))\n",
    "    clf_bag.fit(X_train_mybag, y_train)\n",
    "    \n",
    "    return clf_tfidf, clf_bag"
   ]
  },
  {
   "cell_type": "code",
   "execution_count": 55,
   "metadata": {},
   "outputs": [],
   "source": [
    "import numpy as np\n",
    "from scipy.stats import uniform\n",
    "from sklearn.preprocessing import MultiLabelBinarizer"
   ]
  },
  {
   "cell_type": "code",
   "execution_count": 57,
   "metadata": {},
   "outputs": [],
   "source": [
    "def loguniform(low=0, high=1, size=None):\n",
    "    return np.exp(np.random.uniform(low, high, size))\n",
    "\n",
    "def run_randomized_s():\n",
    "    distributions = dict(C=np.random.uniform(0, 100),\n",
    "                         penalty=['l1', 'l2'],\n",
    "                         l1_ratio= np.exp(np.random.uniform((1e-4, 1e0))))\n",
    "\n",
    "    OVR_tfidf_rand = OneVsRestClassifier(LogisticRegression(), n_jobs=-1)\n",
    "    clf_tfidf_rand = RandomizedSearchCV(OVR_tfidf_rand, distributions, n_iter=60, n_jobs=-1, scoring='f1_weighted')\n",
    "    clf_tfidf_rand.fit(X_train_tfidf, y_train)\n",
    "\n",
    "    OVR_bag_rand = OneVsRestClassifier(LogisticRegression(), n_jobs=-1)\n",
    "    clf_bag_rand = RandomizedSearchCV(OVR_bag_rand, distributions, n_iter=60, n_jobs=-1, scoring='f1_weighted')\n",
    "    clf_bag_rand.fit(X_train_mybag, y_train)\n",
    "    \n",
    "    return clf_tfidf_randm, clf_bag_rand"
   ]
  },
  {
   "cell_type": "code",
   "execution_count": 58,
   "metadata": {},
   "outputs": [],
   "source": [
    "# clf_tfidf_randm, clf_bag_rand = run_randomized_s()"
   ]
  },
  {
   "cell_type": "code",
   "execution_count": 59,
   "metadata": {},
   "outputs": [
    {
     "name": "stderr",
     "output_type": "stream",
     "text": [
      "C:\\Users\\Cagri\\Anaconda3\\lib\\site-packages\\sklearn\\linear_model\\logistic.py:433: FutureWarning: Default solver will be changed to 'lbfgs' in 0.22. Specify a solver to silence this warning.\n",
      "  FutureWarning)\n",
      "C:\\Users\\Cagri\\Anaconda3\\lib\\site-packages\\sklearn\\linear_model\\logistic.py:433: FutureWarning: Default solver will be changed to 'lbfgs' in 0.22. Specify a solver to silence this warning.\n",
      "  FutureWarning)\n"
     ]
    }
   ],
   "source": [
    "clf_tfidf, clf_bag = run_gs()"
   ]
  },
  {
   "cell_type": "code",
   "execution_count": 60,
   "metadata": {
    "scrolled": true
   },
   "outputs": [
    {
     "name": "stdout",
     "output_type": "stream",
     "text": [
      "tfidf best score: 0.634\n",
      "bag best score: 0.645\n"
     ]
    }
   ],
   "source": [
    "print(\"tfidf best score: %.3f\" %clf_tfidf.best_score_)\n",
    "print(\"bag best score: %.3f\" %clf_bag.best_score_)"
   ]
  },
  {
   "cell_type": "code",
   "execution_count": 76,
   "metadata": {
    "scrolled": true
   },
   "outputs": [
    {
     "name": "stdout",
     "output_type": "stream",
     "text": [
      "{'estimator__C': 10, 'estimator__penalty': 'l1'}\n",
      "{'estimator__C': 1, 'estimator__penalty': 'l1'}\n"
     ]
    }
   ],
   "source": [
    "print(clf_tfidf.best_params_)\n",
    "print(clf_bag.best_params_)"
   ]
  },
  {
   "cell_type": "markdown",
   "metadata": {},
   "source": [
    "When you are happy with the quality, create predictions for *test* set, which you will submit to Coursera."
   ]
  },
  {
   "cell_type": "markdown",
   "metadata": {},
   "source": [
    "# Testing the model with X_test"
   ]
  },
  {
   "cell_type": "code",
   "execution_count": 62,
   "metadata": {
    "scrolled": false
   },
   "outputs": [
    {
     "name": "stdout",
     "output_type": "stream",
     "text": [
      "Current answer for task MultilabelClassification is:\n",
      " 0\tphp\n",
      "1\tjavascript,jquery\n",
      "2\t\n",
      "3\tjavascript,jquery\n",
      "4\tandroid,java\n",
      "5\tphp,xml\n",
      "6\tjson\n",
      "7\tjava\n",
      "8\tpython\n",
      "9\th...\n"
     ]
    }
   ],
   "source": [
    "test_predictions = classifier_tfidf.predict(X_test_tfidf)\n",
    "test_pred_inversed = mlb.inverse_transform(test_predictions)\n",
    "\n",
    "test_predictions_for_submission = '\\n'.join('%i\\t%s' % (i, ','.join(row)) for i, row in enumerate(test_pred_inversed))\n",
    "grader.submit_tag('MultilabelClassification', test_predictions_for_submission)"
   ]
  },
  {
   "cell_type": "code",
   "execution_count": 63,
   "metadata": {
    "scrolled": true
   },
   "outputs": [
    {
     "name": "stdout",
     "output_type": "stream",
     "text": [
      "--php\n",
      "warning mysql_query expects parameter 2 resource object given\n",
      "\n",
      "--javascript,jquery\n",
      "get click coordinates input typeimage via javascript\n",
      "\n",
      "--\n",
      "implement cloud storage media assets zf\n",
      "\n",
      "--javascript,jquery\n",
      "catcomplete jquerys autocomplete plugin\n",
      "\n"
     ]
    }
   ],
   "source": [
    "for index, (question, tag) in enumerate(zip(X_test, test_pred_inversed)):\n",
    "    print(\"--\" + \",\".join(tag))\n",
    "    print(question + \"\\n\")\n",
    "    if index == 3:\n",
    "        break"
   ]
  },
  {
   "cell_type": "markdown",
   "metadata": {},
   "source": [
    "# Testing the model with X_val"
   ]
  },
  {
   "cell_type": "code",
   "execution_count": 96,
   "metadata": {
    "scrolled": true
   },
   "outputs": [
    {
     "name": "stdout",
     "output_type": "stream",
     "text": [
      "Actual: php,sql\n",
      "Predicted: \n",
      "***   odbc_exec always fail   ***\n",
      "\n",
      "Actual: javascript\n",
      "Predicted: \n",
      "***   access base classes variable within child class   ***\n",
      "\n",
      "Actual: ruby-on-rails,ruby\n",
      "Predicted: json,ruby-on-rails\n",
      "***   contenttype application json required rails   ***\n",
      "\n",
      "Actual: ruby,session\n",
      "Predicted: \n",
      "***   sessions sinatra used pass variable   ***\n",
      "\n",
      "Actual: ruby-on-rails,ruby,json\n",
      "Predicted: ruby-on-rails\n",
      "***   getting error type json exist postgresql rake db migrate   ***\n",
      "\n",
      "Actual: c++,iphone,ios,xcode\n",
      "Predicted: \n",
      "***   library found   ***\n",
      "\n",
      "Actual: c#\n",
      "Predicted: \n",
      "***   csproj file programmatic adding deleting files   ***\n",
      "\n",
      "Actual: python,django\n",
      "Predicted: python\n",
      "***   typeerror makedirs got unexpected keyword argument exists_ok   ***\n",
      "\n",
      "Actual: javascript,jquery,html\n",
      "Predicted: javascript,jquery\n",
      "***   pan div using jquery   ***\n",
      "\n",
      "Actual: java,hibernate\n",
      "Predicted: hibernate,java\n",
      "***   hibernate intermediate advanced tutorials   ***\n",
      "\n",
      "Actual: c#,.net,class\n",
      "Predicted: c#\n",
      "***   c# properties access values another function class   ***\n",
      "\n",
      "Actual: c#,wpf\n",
      "Predicted: \n",
      "***   use databinding 3d elements like visual3d uielement3d   ***\n",
      "\n",
      "Actual: php\n",
      "Predicted: php\n",
      "***   check video exists youtube using php   ***\n",
      "\n",
      "Actual: java\n",
      "Predicted: \n",
      "***   handle mouse dragging event jfreechart   ***\n",
      "\n",
      "Actual: c#,wpf\n",
      "Predicted: c#,wpf\n",
      "***   dynamic data matrix wpf   ***\n",
      "\n",
      "Actual: c#,wpf\n",
      "Predicted: c#,wpf\n",
      "***   wpf button external background image   ***\n",
      "\n",
      "Actual: python,string\n",
      "Predicted: \n",
      "***   isdigit rational numbers   ***\n",
      "\n",
      "Actual: django,twitter-bootstrap\n",
      "Predicted: html,javascript,jquery,twitter-bootstrap\n",
      "***   make clicked tab active bootstrap   ***\n",
      "\n",
      "Actual: java,android\n",
      "Predicted: \n",
      "***   unable load class comgooglegsonjsonobject   ***\n",
      "\n",
      "Actual: ruby-on-rails,ruby\n",
      "Predicted: \n",
      "***   determine string valid float value   ***\n",
      "\n",
      "Actual: javascript,php,datetime\n",
      "Predicted: javascript,php\n",
      "***   php equivalent javascript gettime   ***\n",
      "\n",
      "Actual: python,string\n",
      "Predicted: python\n",
      "***   unknown python expression filenamer path file   ***\n",
      "\n",
      "Actual: c#,string,linq\n",
      "Predicted: \n",
      "***   find index first uppercase character   ***\n",
      "\n",
      "Actual: javascript,android\n",
      "Predicted: android,javascript\n",
      "***   android webviewloaddatawithbaseurl fail render javascript   ***\n",
      "\n",
      "Actual: r\n",
      "Predicted: \n",
      "***   removing lines within filledcontour legend   ***\n",
      "\n",
      "Actual: java\n",
      "Predicted: java\n",
      "***   stop disable internet access java   ***\n",
      "\n",
      "Actual: django\n",
      "Predicted: django\n",
      "***   translate function names django admin   ***\n",
      "\n",
      "Actual: java,database\n",
      "Predicted: java\n",
      "***   oracle jdbc euro character   ***\n",
      "\n",
      "Actual: ruby-on-rails\n",
      "Predicted: ruby-on-rails\n",
      "***   rspec controller tests put update action nested resource   ***\n",
      "\n",
      "Actual: java\n",
      "Predicted: java\n",
      "***   java objectinputstream   ***\n",
      "\n",
      "Actual: javascript,jquery,ajax\n",
      "Predicted: ajax,javascript,jquery\n",
      "***   ajax data uncaught referenceerror date defined   ***\n",
      "\n",
      "Actual: java,android\n",
      "Predicted: android,java\n",
      "***   lifecycle method fragment execute asynctask   ***\n",
      "\n",
      "Actual: c++\n",
      "Predicted: c#\n",
      "***   unuse namespace   ***\n",
      "\n",
      "Actual: c#,.net,html\n",
      "Predicted: c#\n",
      "***   remove html tags format text returns spaces etc using net   ***\n",
      "\n",
      "Actual: c,pointers\n",
      "Predicted: c\n",
      "***   initialization makes pointer integer without cast c   ***\n",
      "\n",
      "Actual: php\n",
      "Predicted: php\n",
      "***   getting list every listeners symfony2   ***\n",
      "\n",
      "Actual: r,csv\n",
      "Predicted: r\n",
      "***   r align time series different frequencies   ***\n",
      "\n",
      "Actual: java,sql\n",
      "Predicted: java\n",
      "***   insert picture database sqlite java code   ***\n",
      "\n",
      "Actual: c#,linq\n",
      "Predicted: c#,linq\n",
      "***   group clause linq   ***\n",
      "\n",
      "Actual: javascript,html\n",
      "Predicted: javascript\n",
      "***   javascript code explanation e etarget windowevent windoweventsrcelement   ***\n",
      "\n",
      "Actual: php\n",
      "Predicted: arrays\n",
      "***   find second highest variable array   ***\n",
      "\n",
      "Actual: iphone,objective-c,ios\n",
      "Predicted: \n",
      "***   hide statusbar uitabbarcontroller enters landscape mode   ***\n",
      "\n",
      "Actual: php\n",
      "Predicted: \n",
      "***   converting audio files preserving album artwork ffmpeg   ***\n",
      "\n",
      "Actual: c#,.net,linq\n",
      "Predicted: c#,linq\n",
      "***   linq optimizations iorderedenumerable   ***\n",
      "\n",
      "Actual: c#,multithreading,sockets\n",
      "Predicted: \n",
      "***   adonet concurrent connections max pool size timeout error   ***\n",
      "\n",
      "Actual: javascript\n",
      "Predicted: \n",
      "***   windowonload fired   ***\n",
      "\n",
      "Actual: php,codeigniter\n",
      "Predicted: codeigniter,php\n",
      "***   delete cookie codeigniter   ***\n",
      "\n",
      "Actual: java\n",
      "Predicted: java\n",
      "***   testng fails load test classes ant   ***\n",
      "\n",
      "Actual: php,jquery,wordpress\n",
      "Predicted: php,wordpress\n",
      "***   get wordpress user profile url link id   ***\n",
      "\n",
      "Actual: c\n",
      "Predicted: \n",
      "***   error mean somefilec200 error frame size 1032 bytes larger 1024 bytes   ***\n",
      "\n",
      "Actual: php,html\n",
      "Predicted: php\n",
      "***   footer dont change opencart   ***\n",
      "\n",
      "Actual: java\n",
      "Predicted: \n",
      "***   pool empty unable fetch connection 10 seconds   ***\n",
      "\n",
      "Actual: c#,.net,winforms\n",
      "Predicted: \n",
      "***   programatically finding message box generating click button   ***\n",
      "\n",
      "Actual: php\n",
      "Predicted: php\n",
      "***   ensure php script ever run cron job   ***\n",
      "\n",
      "Actual: java,sql-server\n",
      "Predicted: java,sql-server\n",
      "***   statementsetfetchsize nsize method really sql server jdbc driver   ***\n",
      "\n",
      "Actual: python,django\n",
      "Predicted: django,python\n",
      "***   remove add functionality django admin   ***\n",
      "\n",
      "Actual: python\n",
      "Predicted: python\n",
      "***   passing multple files asterisk python shell windows   ***\n",
      "\n",
      "Actual: c++\n",
      "Predicted: c++\n",
      "***   inheritance templates c++ methods invisible   ***\n",
      "\n",
      "Actual: java,servlets\n",
      "Predicted: java,servlets\n",
      "***   servlet init method equivalent jaxrs   ***\n",
      "\n",
      "Actual: ruby-on-rails\n",
      "Predicted: \n",
      "***   file load zip zip missingsourcefile running cucumber   ***\n",
      "\n",
      "Actual: ruby-on-rails,ruby-on-rails-3\n",
      "Predicted: ruby-on-rails\n",
      "***   deploy ror heroku sqlite3 fails   ***\n",
      "\n",
      "Actual: javascript,jquery,css\n",
      "Predicted: javascript\n",
      "***   open submenu click parent   ***\n",
      "\n",
      "Actual: android,python\n",
      "Predicted: android,python\n",
      "***   encrypt decrypt aes algorithm python android   ***\n",
      "\n",
      "Actual: c#\n",
      "Predicted: \n",
      "***   retrying method call database   ***\n",
      "\n",
      "Actual: java,mysql,sql,hibernate\n",
      "Predicted: java\n",
      "***   javamathbiginteger cannot cast javalanginteger   ***\n",
      "\n",
      "Actual: c++,oop\n",
      "Predicted: c++\n",
      "***   virtual c++ method implementation cpp file marked virtual   ***\n",
      "\n",
      "Actual: ios,swift\n",
      "Predicted: \n",
      "***   cannot convert value type error swift3   ***\n",
      "\n",
      "Actual: c++\n",
      "Predicted: \n",
      "***   window transparent client area   ***\n",
      "\n",
      "Actual: javascript,jquery\n",
      "Predicted: javascript,jquery\n",
      "***   cant use jquery prop get css setting   ***\n",
      "\n",
      "Actual: c#,wpf,linq\n",
      "Predicted: c#,linq\n",
      "***   compare two ienumerable collections using linq   ***\n",
      "\n",
      "Actual: python,pandas\n",
      "Predicted: python\n",
      "***   merging dataframes pandas keep getting key error   ***\n",
      "\n",
      "Actual: javascript,html\n",
      "Predicted: html,javascript\n",
      "***   sync iframe source code textarea element   ***\n",
      "\n",
      "Actual: javascript,html,css,angularjs\n",
      "Predicted: angularjs,javascript\n",
      "***   adding scroll table body fixed header angularjs   ***\n",
      "\n",
      "Actual: ruby-on-rails,image\n",
      "Predicted: image\n",
      "***   save image progressive image using paperclip   ***\n",
      "\n",
      "Actual: java,eclipse\n",
      "Predicted: eclipse,java\n",
      "***   eclipse updates referenced library jar picked   ***\n",
      "\n",
      "Actual: php,mysql\n",
      "Predicted: php\n",
      "***   set entity doctrine database view symfony 2   ***\n",
      "\n",
      "Actual: javascript,mysql,database\n",
      "Predicted: javascript,sql\n",
      "***   javascript vbscript sql database   ***\n",
      "\n",
      "Actual: c#,asp.net,winforms\n",
      "Predicted: asp.net,c#\n",
      "***   relative paths winform aspnet app   ***\n",
      "\n",
      "Actual: java\n",
      "Predicted: \n",
      "***   annotations optional attributes   ***\n",
      "\n",
      "Actual: java\n",
      "Predicted: java\n",
      "***   counting occurrences key map java   ***\n",
      "\n",
      "Actual: python,python-2.7,numpy\n",
      "Predicted: \n",
      "***   moving average running mean   ***\n",
      "\n",
      "Actual: java,android\n",
      "Predicted: android,java\n",
      "***   play video gallery android   ***\n",
      "\n",
      "Actual: php\n",
      "Predicted: php\n",
      "***   md5 decryption php   ***\n",
      "\n",
      "Actual: javascript,php,jquery,ajax\n",
      "Predicted: ajax,php\n",
      "***   problems using ajax call php function   ***\n",
      "\n",
      "Actual: r\n",
      "Predicted: \n",
      "***   monitor progress apply function   ***\n",
      "\n",
      "Actual: javascript,jquery,html,css,google-maps\n",
      "Predicted: google-maps,javascript\n",
      "***   google map api route request limit   ***\n",
      "\n",
      "Actual: java,excel\n",
      "Predicted: \n",
      "***   excellike data grid editor import export functionality   ***\n",
      "\n",
      "Actual: python,mysql,django\n",
      "Predicted: mysql,php\n",
      "***   pycharm setting mysql database driver   ***\n",
      "\n",
      "Actual: java\n",
      "Predicted: java\n",
      "***   configure tomcat run java web app localhost   ***\n",
      "\n",
      "Actual: java\n",
      "Predicted: java,spring\n",
      "***   read data java properties file using spring boot   ***\n",
      "\n",
      "Actual: php,apache\n",
      "Predicted: windows\n",
      "***   xampp windows vista folder inside htdocs   ***\n",
      "\n",
      "Actual: arrays,sorting,swift\n",
      "Predicted: arrays,sorting\n",
      "***   sort array tuples   ***\n",
      "\n",
      "Actual: python,django\n",
      "Predicted: \n",
      "***   split modelspy several files   ***\n",
      "\n",
      "Actual: python,windows\n",
      "Predicted: python\n",
      "***   store configuration files python applications windows   ***\n",
      "\n",
      "Actual: java\n",
      "Predicted: java\n",
      "***   plans immutableenumset java 7   ***\n",
      "\n",
      "Actual: javascript,c++\n",
      "Predicted: \n",
      "***   websocket handshake secwebsocketaccept header value incorrect   ***\n",
      "\n",
      "Actual: c#,wpf,xaml\n",
      "Predicted: c#,wpf\n",
      "***   close opened page wpf c#   ***\n",
      "\n",
      "Actual: c#,asp.net-mvc\n",
      "Predicted: asp.net,asp.net-mvc,c#\n",
      "***   routing issue aspnet mvc 5 get   ***\n",
      "\n",
      "Actual: javascript\n",
      "Predicted: \n",
      "***   thisparentelement   ***\n",
      "\n",
      "Actual: php,wordpress\n",
      "Predicted: php,wordpress\n",
      "***   change date language wordpress   ***\n",
      "\n",
      "Actual: c++\n",
      "Predicted: c++\n",
      "***   properly return reference class member   ***\n",
      "\n",
      "Actual: c#,.net,winforms\n",
      "Predicted: \n",
      "***   temporarily stop form events either raised handled   ***\n",
      "\n",
      "Actual: java\n",
      "Predicted: \n",
      "***   write program accept number command line display sum digits number using recursive funcion   ***\n",
      "\n",
      "Actual: java\n",
      "Predicted: \n",
      "***   void invalid type variable paint   ***\n",
      "\n",
      "Actual: c#,.net\n",
      "Predicted: c#\n",
      "***   making copy azure database   ***\n",
      "\n",
      "Actual: javascript\n",
      "Predicted: javascript\n",
      "***   redux reducer called   ***\n",
      "\n",
      "Actual: c#\n",
      "Predicted: c#\n",
      "***   trying update sql server ce failing   ***\n",
      "\n",
      "Actual: java,xml\n",
      "Predicted: \n",
      "***   solve orgxmlsaxsaxparseexception linenumber 1 columnnumber 1 content allowed prolog   ***\n",
      "\n",
      "Actual: java,spring,maven,spring-mvc\n",
      "Predicted: java\n",
      "***   springstarter pomxml cannot find application start class   ***\n",
      "\n",
      "Actual: c#\n",
      "Predicted: .net,c#\n",
      "***   make generated exe work net framework versions   ***\n",
      "\n",
      "Actual: ruby,json\n",
      "Predicted: json,ruby\n",
      "***   serialize ruby object json back   ***\n",
      "\n",
      "Actual: c#\n",
      "Predicted: \n",
      "***   retrieving byte array long raw oracle db   ***\n",
      "\n",
      "Actual: javascript,google-maps\n",
      "Predicted: google-maps,javascript\n",
      "***   google maps api multiple keywords place searches   ***\n",
      "\n",
      "Actual: c#\n",
      "Predicted: c#\n",
      "***   verify column exists datarow reading value   ***\n",
      "\n",
      "Actual: objective-c,ios,performance\n",
      "Predicted: \n",
      "***   fastest way iterate nsarray objects keys   ***\n",
      "\n",
      "Actual: c#,asp.net\n",
      "Predicted: sql\n",
      "***   display data sql database   ***\n",
      "\n",
      "Actual: iphone,objective-c,ios,xcode,cocoa-touch\n",
      "Predicted: xcode\n",
      "***   xcode dynamically add fields   ***\n",
      "\n",
      "Actual: java\n",
      "Predicted: java\n",
      "***   resolve javalangclassnotfoundexception   ***\n",
      "\n",
      "Actual: r\n",
      "Predicted: r\n",
      "***   horizontal dotplot r   ***\n",
      "\n",
      "Actual: python,qt\n",
      "Predicted: python\n",
      "***   add text qplaintextedit pyqt result status log   ***\n",
      "\n",
      "Actual: c++\n",
      "Predicted: c,c++\n",
      "***   int main int argc char argv   ***\n",
      "\n",
      "Actual: javascript\n",
      "Predicted: javascript\n",
      "***   workaround javascript dictionary takes objects keys   ***\n",
      "\n",
      "Actual: ios,objective-c\n",
      "Predicted: iphone,objective-c\n",
      "***   force application terminate iphone   ***\n",
      "\n",
      "Actual: java,spring,jsp,spring-mvc\n",
      "Predicted: java,spring-mvc\n",
      "***   read files tomcat custom directory spring mvc web application   ***\n",
      "\n",
      "Actual: c#\n",
      "Predicted: \n",
      "***   audiencerestrictioncondition valid specified audience present audienceuris   ***\n",
      "\n",
      "Actual: c#,.net\n",
      "Predicted: c#,winforms\n",
      "***   binding multiple datagridview   ***\n",
      "\n",
      "Actual: c\n",
      "Predicted: c\n",
      "***   printf working c signal handler   ***\n",
      "\n",
      "Actual: c#\n",
      "Predicted: .net,c#\n",
      "***   calculate value net salary   ***\n",
      "\n",
      "Actual: javascript,dom\n",
      "Predicted: javascript\n",
      "***   javascript script doesnt work firefox   ***\n",
      "\n",
      "Actual: r\n",
      "Predicted: r\n",
      "***   r dealing functions sometimes crash r session   ***\n",
      "\n",
      "Actual: java,spring\n",
      "Predicted: java\n",
      "***   noclassdeffounderror org springframework context support classpathxmlapplicationcontext   ***\n",
      "\n",
      "Actual: c#\n",
      "Predicted: \n",
      "***   running memory depend intermediate calls gcgettotalmemory   ***\n",
      "\n",
      "Actual: java,php,json\n",
      "Predicted: java,json,web-services\n",
      "***   create login java json web service   ***\n",
      "\n",
      "Actual: java\n",
      "Predicted: java,xml\n",
      "***   reading updating large xml file java   ***\n",
      "\n",
      "Actual: c#,winforms\n",
      "Predicted: \n",
      "***   delete rows data table exists another data table   ***\n",
      "\n",
      "Actual: c#,.net,sql-server\n",
      "Predicted: c#\n",
      "***   return objects populated list properties stored procedure   ***\n",
      "\n",
      "Actual: java,android\n",
      "Predicted: java\n",
      "***   calling activity method java class   ***\n",
      "\n",
      "Actual: .net,vb.net,visual-studio-2010\n",
      "Predicted: c#,winforms\n",
      "***   winforms progressbar takes time render   ***\n",
      "\n",
      "Actual: java\n",
      "Predicted: java\n",
      "***   whys simple change rtjar causing java runtime environment crash silently   ***\n",
      "\n",
      "Actual: c++,opencv\n",
      "Predicted: \n",
      "***   lagging video display using cvshowimage   ***\n",
      "\n",
      "Actual: ruby-on-rails,ruby\n",
      "Predicted: ruby-on-rails\n",
      "***   remove urls trailing slash rails app seo view   ***\n",
      "\n",
      "Actual: java,xml\n",
      "Predicted: java,xml\n",
      "***   read text inputstream formatted xml bufferedreaderreadline method   ***\n",
      "\n",
      "Actual: java\n",
      "Predicted: java\n",
      "***   delete box 2d bodies world libgdx   ***\n",
      "\n",
      "Actual: java,android\n",
      "Predicted: android,java\n",
      "***   images scrollview android   ***\n",
      "\n",
      "Actual: php,mysql,ajax,json\n",
      "Predicted: ajax,jquery,mysql,php\n",
      "***   multiple checkbox filter mysql table ajax php   ***\n",
      "\n",
      "Actual: ruby\n",
      "Predicted: \n",
      "***   rubys processfork errnoeagain due batch forking   ***\n",
      "\n",
      "Actual: c#\n",
      "Predicted: asp.net-mvc,c#\n",
      "***   upload file aspnet mvc console application   ***\n",
      "\n",
      "Actual: javascript,jquery\n",
      "Predicted: javascript\n",
      "***   run form change load   ***\n",
      "\n",
      "Actual: c#,winforms,forms\n",
      "Predicted: c#\n",
      "***   c# transparent border borderless form   ***\n",
      "\n",
      "Actual: java,android\n",
      "Predicted: android,java\n",
      "***   system overlay android 40   ***\n",
      "\n",
      "Actual: javascript,html\n",
      "Predicted: javascript\n",
      "***   remove text link page javascript   ***\n",
      "\n"
     ]
    }
   ],
   "source": [
    "val_predictions = classifier_tfidf.predict(X_val_tfidf)\n",
    "val_pred_inversed = mlb.inverse_transform(val_predictions)\n",
    "max_val = 0\n",
    "\n",
    "for index, tag in enumerate(val_pred_inversed):\n",
    "    print(\"Actual: \" + \",\".join(y_val_nb[index]) + \"\\nPredicted: \" + \",\".join(tag))\n",
    "    print(\"***   \" + X_val[index] + \"   ***\" + \"\\n\")\n",
    "#     This block of code returns the cut-off ratio. By default it is 0.5\n",
    "#     if not tag:\n",
    "#         print(\"MAX:   \" + str(classifier_tfidf.predict_proba(X_val_tfidf)[index].max()) + \"\\n\")\n",
    "#         if classifier_tfidf.predict_proba(X_val_tfidf)[index].max() > max_val:\n",
    "#             max_val = classifier_tfidf.predict_proba(X_val_tfidf)[index].max()\n",
    "    if index == 150:\n",
    "        break"
   ]
  },
  {
   "cell_type": "markdown",
   "metadata": {},
   "source": [
    "# Predict tag/s of a question"
   ]
  },
  {
   "cell_type": "code",
   "execution_count": 65,
   "metadata": {},
   "outputs": [],
   "source": [
    "def predict_tags(q):\n",
    "    q_tfidf = tfidf_vectorizer.transform(np.array([q]))\n",
    "    val_predictions = classifier_tfidf.predict(q_tfidf)\n",
    "    val_pred_inversed = mlb.inverse_transform(val_predictions)\n",
    "\n",
    "    return val_pred_inversed"
   ]
  },
  {
   "cell_type": "code",
   "execution_count": 66,
   "metadata": {},
   "outputs": [
    {
     "data": {
      "text/plain": [
       "[('html', 'javascript')]"
      ]
     },
     "execution_count": 66,
     "metadata": {},
     "output_type": "execute_result"
    }
   ],
   "source": [
    "predict_tags('how to style a web page')"
   ]
  },
  {
   "cell_type": "markdown",
   "metadata": {},
   "source": [
    "### Analysis of the most important features"
   ]
  },
  {
   "cell_type": "markdown",
   "metadata": {},
   "source": [
    "Finally, it is usually a good idea to look at the features (words or n-grams) that are used with the largest weigths in your logistic regression model."
   ]
  },
  {
   "cell_type": "markdown",
   "metadata": {},
   "source": [
    "Implement the function *print_words_for_tag* to find them. Get back to sklearn documentation on [OneVsRestClassifier](http://scikit-learn.org/stable/modules/generated/sklearn.multiclass.OneVsRestClassifier.html) and [LogisticRegression](http://scikit-learn.org/stable/modules/generated/sklearn.linear_model.LogisticRegression.html) if needed."
   ]
  },
  {
   "cell_type": "code",
   "execution_count": 67,
   "metadata": {},
   "outputs": [],
   "source": [
    "def print_words_for_tag(classifier, tag, tags_classes, index_to_words, all_words):\n",
    "    \"\"\"\n",
    "        classifier: trained classifier\n",
    "        tag: particular tag\n",
    "        tags_classes: a list of classes names from MultiLabelBinarizer\n",
    "        index_to_words: index_to_words transformation\n",
    "        all_words: all words in the dictionary\n",
    "        \n",
    "        return nothing, just print top 5 positive and top 5 negative words for current tag\n",
    "    \"\"\"\n",
    "    print('Tag:\\t{}'.format(tag))\n",
    "    df_coef = pd.DataFrame(\n",
    "        data=classifier_tfidf.coef_,\n",
    "        index=mlb.classes,\n",
    "        # here we inverse transform tf_idf instance to get the words\n",
    "        # if we had used clf_bag, it would have been okay to use all_words\n",
    "        columns=tfidf_vectorizer.inverse_transform(classifier_tfidf.coef_)[0])\n",
    "\n",
    "    top_5 = df_coef.loc[tag].sort_values(ascending=False)[:5]\n",
    "    bottom_5 = df_coef.loc[tag].sort_values(ascending=True)[:5]\n",
    "    \n",
    "    # Extract an estimator from the classifier for the given tag.\n",
    "    # Extract feature coefficients from the estimator. \n",
    "    \n",
    "    ######################################\n",
    "    ######### YOUR CODE HERE #############\n",
    "    ######################################\n",
    "    \n",
    "    top_positive_words = list(top_5.index)\n",
    "    top_negative_words = list(bottom_5.index)\n",
    "    print('Top positive words:\\t{}'.format(', '.join(top_positive_words)))\n",
    "    print('Top negative words:\\t{}\\n'.format(', '.join(top_negative_words)))"
   ]
  },
  {
   "cell_type": "code",
   "execution_count": 68,
   "metadata": {},
   "outputs": [
    {
     "name": "stdout",
     "output_type": "stream",
     "text": [
      "Tag:\tc\n",
      "Top positive words:\tc, malloc, scanf, printf, gcc\n",
      "Top negative words:\tjava, php, python, javascript, c#\n",
      "\n",
      "Tag:\tc++\n",
      "Top positive words:\tc++, qt, boost, mfc, opencv\n",
      "Top negative words:\tjava, php, python, javascript, c#\n",
      "\n",
      "Tag:\tlinux\n",
      "Top positive words:\tlinux, ubuntu, c, address, signal\n",
      "Top negative words:\tjavascript, c#, jquery, array, method\n",
      "\n",
      "Tag:\tpython\n",
      "Top positive words:\tpython, pandas, numpy, matplotlib, flask\n",
      "Top negative words:\tphp, java, c#, javascript, jquery\n",
      "\n"
     ]
    }
   ],
   "source": [
    "print_words_for_tag(classifier_tfidf, 'c', mlb.classes, tfidf_reversed_vocab, ALL_WORDS)\n",
    "print_words_for_tag(classifier_tfidf, 'c++', mlb.classes, tfidf_reversed_vocab, ALL_WORDS)\n",
    "print_words_for_tag(classifier_tfidf, 'linux', mlb.classes, tfidf_reversed_vocab, ALL_WORDS)\n",
    "print_words_for_tag(classifier_tfidf, 'python', mlb.classes, tfidf_reversed_vocab, ALL_WORDS)"
   ]
  },
  {
   "cell_type": "markdown",
   "metadata": {},
   "source": [
    "### Authorization & Submission\n",
    "To submit assignment parts to Cousera platform, please, enter your e-mail and token into variables below. You can generate token on this programming assignment page. <b>Note:</b> Token expires 30 minutes after generation."
   ]
  },
  {
   "cell_type": "code",
   "execution_count": 69,
   "metadata": {},
   "outputs": [
    {
     "name": "stdout",
     "output_type": "stream",
     "text": [
      "You want to submit these parts:\n",
      "Task TextPrepare:\n",
      " sqlite php readonly\n",
      "creating multiple textboxes dynamically\n",
      "self one prefer javascript\n",
      "save php date...\n",
      "Task WordsTagsCount:\n",
      " javascript,c#,java\n",
      "using,php,java...\n",
      "Task BagOfWords:\n",
      " 7...\n",
      "Task MultilabelClassification:\n",
      " 0\tphp\n",
      "1\tjavascript,jquery\n",
      "2\t\n",
      "3\tjavascript,jquery\n",
      "4\tandroid,java\n",
      "5\tphp,xml\n",
      "6\tjson\n",
      "7\tjava\n",
      "8\tpython\n",
      "9\th...\n"
     ]
    }
   ],
   "source": [
    "grader.status()"
   ]
  },
  {
   "cell_type": "code",
   "execution_count": 70,
   "metadata": {},
   "outputs": [],
   "source": [
    "#STUDENT_EMAIL = # EMAIL \n",
    "#STUDENT_TOKEN = # TOKEN \n",
    "#grader.status()"
   ]
  },
  {
   "cell_type": "markdown",
   "metadata": {},
   "source": [
    "If you want to submit these answers, run cell below"
   ]
  },
  {
   "cell_type": "code",
   "execution_count": null,
   "metadata": {},
   "outputs": [],
   "source": [
    "#grader.submit(STUDENT_EMAIL, STUDENT_TOKEN)"
   ]
  },
  {
   "cell_type": "code",
   "execution_count": null,
   "metadata": {},
   "outputs": [],
   "source": []
  }
 ],
 "metadata": {
  "kernelspec": {
   "display_name": "Python 3",
   "language": "python",
   "name": "python3"
  },
  "language_info": {
   "codemirror_mode": {
    "name": "ipython",
    "version": 3
   },
   "file_extension": ".py",
   "mimetype": "text/x-python",
   "name": "python",
   "nbconvert_exporter": "python",
   "pygments_lexer": "ipython3",
   "version": "3.7.3"
  }
 },
 "nbformat": 4,
 "nbformat_minor": 2
}
